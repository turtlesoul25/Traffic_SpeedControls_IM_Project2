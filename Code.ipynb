{
 "cells": [
  {
   "cell_type": "markdown",
   "metadata": {},
   "source": [
    "Evolution of road movement at discrete timesteps:\n",
    "\n",
    "1. Acceleration: If the velocity $v$ of a vehicle is lower than $v_{\\max}$ and if the distance to the car ahead is larger than $v+1$, increase the speed by one $[v \\mapsto v+1]$\n"
   ]
  },
  {
   "cell_type": "code",
   "execution_count": 217,
   "metadata": {},
   "outputs": [],
   "source": [
    "import numpy as np\n",
    "import matplotlib.pyplot as plt\n",
    "from IPython.display import display, clear_output\n",
    "rng = np.random.default_rng()"
   ]
  },
  {
   "cell_type": "code",
   "execution_count": null,
   "metadata": {},
   "outputs": [],
   "source": []
  },
  {
   "cell_type": "code",
   "execution_count": 218,
   "metadata": {},
   "outputs": [],
   "source": [
    "def create_road(L):\n",
    "    '''\n",
    "    Set up a new, empty road\n",
    "    '''\n",
    "    return np.zeros((2,L), dtype=int)"
   ]
  },
  {
   "cell_type": "code",
   "execution_count": 219,
   "metadata": {},
   "outputs": [],
   "source": [
    "def add_cars(L,n_cars):\n",
    "    '''\n",
    "    Set up a random road where a cell has nonzero velocity with probability p\n",
    "    '''\n",
    "    road = create_road(L)\n",
    "    road[0, :n_cars] = 1\n",
    "    rng.shuffle(road, axis = 1)\n",
    "\n",
    "    return road\n",
    "\n"
   ]
  },
  {
   "cell_type": "code",
   "execution_count": 220,
   "metadata": {},
   "outputs": [],
   "source": [
    "def initial_velocities(L, n_cars, vmax, road):\n",
    "    '''\n",
    "    Provide initial velocities to the cars\n",
    "    '''\n",
    "    random_vs = rng.integers(0, high = vmax, size = L, endpoint = True)\n",
    "    road[1, :] = road[0, :]*random_vs\n",
    "\n",
    "    return road\n"
   ]
  },
  {
   "cell_type": "code",
   "execution_count": 221,
   "metadata": {},
   "outputs": [],
   "source": [
    "road_with_cars = add_cars(L = 15, n_cars = 5)\n",
    "initial_road = initial_velocities(L = 15, n_cars = 5, vmax = 5, road=road_with_cars)"
   ]
  },
  {
   "cell_type": "code",
   "execution_count": 242,
   "metadata": {},
   "outputs": [],
   "source": [
    "def plottable_road(road):\n",
    "    road_plot = road.copy().astype(float)\n",
    "    road_plot[1, (road_plot[0, :] == 0).astype(bool)] = np.nan\n",
    "    return road_plot[1, :]"
   ]
  },
  {
   "cell_type": "code",
   "execution_count": 247,
   "metadata": {},
   "outputs": [],
   "source": [
    "def plot_road(roads_to_plot):\n",
    "    img = plt.imshow(roads_to_plot)\n",
    "    plt.colorbar()\n",
    "\n",
    "    return img\n"
   ]
  },
  {
   "cell_type": "code",
   "execution_count": 223,
   "metadata": {},
   "outputs": [],
   "source": [
    "def get_site_value(road, site_num):\n",
    "    '''Return the velocity of the vehicle on site i'''\n",
    "    L = road.shape[1]\n",
    "    return road[:, site_num%L]"
   ]
  },
  {
   "cell_type": "code",
   "execution_count": 224,
   "metadata": {},
   "outputs": [],
   "source": [
    "def set_site_value(road, site_num, vel, empty):\n",
    "    ''' Set the velocity (if any) of the vehicle on a site'''\n",
    "    L = road.shape[1]\n",
    "    if empty == False:   \n",
    "        road[0, site_num%L] = 1\n",
    "        road[1, site_num%L] = vel\n",
    "    elif empty == True:\n",
    "        road[:, site_num%L] = 0\n",
    "\n",
    "    return road"
   ]
  },
  {
   "cell_type": "code",
   "execution_count": 225,
   "metadata": {},
   "outputs": [],
   "source": [
    "def next_car_dist(road, site_num, L):\n",
    "    '''\n",
    "    Count the number of empty sites before \n",
    "    the next car (non-empty site)'''\n",
    "    # site_status = np.where(road[0, :])[]\n",
    "    j = site_num+1\n",
    "    while road[0, j%L] == 0:\n",
    "        j += 1\n",
    "    \n",
    "    # return index of next car and number of empty sites between current car and next\n",
    "    return j%L, (j - site_num )%L\n"
   ]
  },
  {
   "cell_type": "code",
   "execution_count": 226,
   "metadata": {},
   "outputs": [
    {
     "data": {
      "text/plain": [
       "array([[0, 1, 0, 0, 0, 0, 1, 0, 0, 0, 1, 1, 0, 1, 0],\n",
       "       [0, 2, 0, 0, 0, 0, 0, 0, 0, 0, 3, 0, 0, 1, 0]])"
      ]
     },
     "execution_count": 226,
     "metadata": {},
     "output_type": "execute_result"
    }
   ],
   "source": [
    "initial_road"
   ]
  },
  {
   "cell_type": "code",
   "execution_count": 227,
   "metadata": {},
   "outputs": [
    {
     "data": {
      "text/plain": [
       "(6, 2)"
      ]
     },
     "execution_count": 227,
     "metadata": {},
     "output_type": "execute_result"
    }
   ],
   "source": [
    "next_car_dist(initial_road, 4, L=15)"
   ]
  },
  {
   "cell_type": "code",
   "execution_count": 238,
   "metadata": {},
   "outputs": [],
   "source": [
    "def motion(road):\n",
    "    L = road.shape[1]\n",
    "    next_road = create_road(L)\n",
    "    for site in range(L):\n",
    "        site_stat = get_site_value(road, site)\n",
    "        is_occupied = site_stat[0] == 1\n",
    "        v = site_stat[1]\n",
    "        if is_occupied:\n",
    "            next_road = set_site_value(next_road, (site+v)%L, v, empty=False)\n",
    "    \n",
    "    return next_road"
   ]
  },
  {
   "cell_type": "code",
   "execution_count": 258,
   "metadata": {},
   "outputs": [],
   "source": [
    "def step(road, vmax, prob):\n",
    "    '''\n",
    "    Creates the next iteration from a given road\n",
    "    '''\n",
    "\n",
    "    # create an empty road to store the new results in\n",
    "    L = road.shape[1]\n",
    "    road_info = road.copy()\n",
    "    random_vec = rng.random(L)\n",
    "    # loop over each site\n",
    "    for site in range(L):\n",
    "\n",
    "        # determine if the site is empty or occupied\n",
    "        site_stat = get_site_value(road, site)\n",
    "        is_occupied = site_stat[0] == 1\n",
    "        v = site_stat[1]\n",
    "\n",
    "        # apply the rules\n",
    "        if is_occupied:\n",
    "            # determine distance of car ahead\n",
    "            dist_ahead = next_car_dist(road, site, L)[1]\n",
    "\n",
    "        ## Acceleration\n",
    "        # if the velocity v of a vehicle is lower than vmax and \n",
    "        # if the car distance to car ahead is larger than v+1, \n",
    "        # increase the speed by one (v -> v+1)\n",
    "            if v < vmax and dist_ahead > v+1:\n",
    "                road_info = set_site_value(road_info, site, v+1, empty=False)\n",
    "\n",
    "\n",
    "            ## Deceleration\n",
    "            # if a vehicle at site i sees the next vehicle at site i+j \n",
    "            # with j <= v, it reduces its speed to j-1 (v -> j-1)\n",
    "            elif dist_ahead <= v:\n",
    "                new_vel= dist_ahead-1\n",
    "                road_info = set_site_value(road_info, site, new_vel, empty=False )\n",
    "\n",
    "\n",
    "            ## Randomisation\n",
    "            # with probability p, the vehicle's velocity is decreased \n",
    "            # by one to a minimum of zero ( v -> max(v-1, 0))\n",
    "            elif random_vec[site] < prob:\n",
    "                road_info = set_site_value(road_info, site, max(v-1, 0), empty=False)\n",
    "\n",
    "        ## Motion\n",
    "        # each vehicle is advanced v sites\n",
    "    next_road = motion(road_info)\n",
    "\n",
    "    return next_road\n",
    "\n",
    "        "
   ]
  },
  {
   "cell_type": "code",
   "execution_count": 259,
   "metadata": {},
   "outputs": [],
   "source": [
    "new_road = step(initial_road, vmax = 5, prob = 0.01)\n"
   ]
  },
  {
   "cell_type": "code",
   "execution_count": 265,
   "metadata": {},
   "outputs": [
    {
     "data": {
      "text/plain": [
       "<matplotlib.image.AxesImage at 0x7f80898f46d0>"
      ]
     },
     "execution_count": 265,
     "metadata": {},
     "output_type": "execute_result"
    },
    {
     "data": {
      "image/png": "[encoded data removed]",
      "text/plain": [
       "<Figure size 432x288 with 2 Axes>"
      ]
     },
     "metadata": {
      "needs_background": "light"
     },
     "output_type": "display_data"
    }
   ],
   "source": [
    "## Multiple iterations\n",
    "nt = 10\n",
    "L = 50\n",
    "n_cars = 5\n",
    "vmax = 5\n",
    "prob = 0.0\n",
    "\n",
    "roads_to_plot = np.zeros((nt, L))\n",
    "initial_road = initial_velocities(L, n_cars, vmax, road=add_cars(L, n_cars))\n",
    "next_road = initial_road\n",
    "roads_to_plot[0, :] = plottable_road(next_road)\n",
    "for i in range(nt-1):\n",
    "    next_road = step(next_road, vmax, prob)\n",
    "    roads_to_plot[i+1, :] = plottable_road(next_road)\n",
    "\n",
    "\n",
    "plot_road(roads_to_plot)"
   ]
  },
  {
   "cell_type": "code",
   "execution_count": null,
   "metadata": {},
   "outputs": [],
   "source": []
  },
  {
   "cell_type": "code",
   "execution_count": null,
   "metadata": {},
   "outputs": [],
   "source": []
  }
 ],
 "metadata": {
  "kernelspec": {
   "display_name": "base",
   "language": "python",
   "name": "python3"
  },
  "language_info": {
   "codemirror_mode": {
    "name": "ipython",
    "version": 3
   },
   "file_extension": ".py",
   "mimetype": "text/x-python",
   "name": "python",
   "nbconvert_exporter": "python",
   "pygments_lexer": "ipython3",
   "version": "3.8.5"
  },
  "orig_nbformat": 4
 },
 "nbformat": 4,
 "nbformat_minor": 2
}
