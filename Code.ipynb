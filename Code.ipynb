{
 "cells": [
  {
   "cell_type": "markdown",
   "metadata": {},
   "source": [
    "Evolution of road movement at discrete timesteps:\n",
    "\n",
    "1. Acceleration: If the velocity $v$ of a vehicle is lower than $v_{\\max}$ and if the distance to the car ahead is larger than $v+1$, increase the speed by one $[v \\mapsto v+1]$\n"
   ]
  },
  {
   "cell_type": "code",
   "execution_count": 1,
   "metadata": {},
   "outputs": [],
   "source": [
    "import numpy as np\n",
    "import matplotlib as mpl\n",
    "import matplotlib.pyplot as plt \n",
    "import matplotlib.animation as animation\n",
    "from IPython.display import display, clear_output\n",
    "rng = np.random.default_rng()"
   ]
  },
  {
   "cell_type": "code",
   "execution_count": null,
   "metadata": {},
   "outputs": [],
   "source": [
    "def animator(num_sol, anal_sol, x, times, nt, filename):\n",
    "    '''\n",
    "    Produces an animation of the analytical vs numerical solution of the concentration for all points \n",
    "    x on the strip where each frame of the animation corresponds to a time step 0 <= t <= T.\n",
    "    \n",
    "    Inputs: \n",
    "        - num_sol: array of size (nt,nx) with numerical solution of concentrations \n",
    "                    for all times t and points x on the strip.\n",
    "        - anal_sol: array of size (nt,nx) with analytical solution of concentrations \n",
    "                    for all times t and points x on the strip.\n",
    "        - x: vector of size nx containing points on the strip 0 <= x_i <= L.\n",
    "        - times: vector of size nt containing times in the time period.\n",
    "        - nt: number of discretised time steps for each frame in the animation.\n",
    "        - filename: string denoting name of the .mp4 file which the animation will be saved as.\n",
    "    \n",
    "    Output:\n",
    "        - Saved animation with same name as filename.\n",
    "    '''\n",
    "    \n",
    "    # Setting initial frame\n",
    "    fig, ax = plt.subplots()\n",
    "    \n",
    "    # Plotting solutions for initial frame\n",
    "    line, = ax.plot(x, num_sol[0], c = 'orange', linewidth = 2.5, \n",
    "                    label = \"Numerical solution\") # plot numerical solution at t=0\n",
    "    line2, = ax.plot(x, anal_sol[0], c = 'deeppink', linewidth = 3.5, linestyle = (0,(3,5,1,5,1,5)), \n",
    "                     label = \"Analytical solution\") # plot analytical solution at t=0\n",
    "    ax.set(ylim=[0,0.6], xlabel = r'Distance $x$ from the dipping point (cm)', \n",
    "           ylabel = r'Concentration ($mol/cm^3$)')\n",
    "    plt.legend(handlelength = 10)\n",
    "    plt.grid(True)\n",
    "\n",
    "\n",
    "    def update(i):  # To update each frame of the animation\n",
    "            line.set_ydata(num_sol[i])\n",
    "            line2.set_ydata(anal_sol[i])\n",
    "            plt.title(f'Time = {times[i]:.2f} seconds')\n",
    "            return (line, line2)\n",
    "\n",
    "    ani = FuncAnimation(fig, update, frames=nt, blit=True, interval = 20)\n",
    "    writer = animation.writers['ffmpeg'](fps=30)\n",
    "    ani.save(filename, writer=writer, dpi=300)"
   ]
  },
  {
   "cell_type": "code",
   "execution_count": 2,
   "metadata": {},
   "outputs": [],
   "source": [
    "def create_road(L):\n",
    "    '''\n",
    "    Set up a new, empty road\n",
    "    '''\n",
    "    return np.zeros((2,L), dtype=int)"
   ]
  },
  {
   "cell_type": "code",
   "execution_count": 3,
   "metadata": {},
   "outputs": [],
   "source": [
    "def add_cars(L,n_cars):\n",
    "    '''\n",
    "    Set up a random road where a cell has nonzero velocity with probability p\n",
    "    '''\n",
    "    road = create_road(L)\n",
    "    road[0, :n_cars] = 1\n",
    "    rng.shuffle(road, axis = 1)\n",
    "\n",
    "    return road\n",
    "\n"
   ]
  },
  {
   "cell_type": "code",
   "execution_count": 4,
   "metadata": {},
   "outputs": [],
   "source": [
    "def initial_velocities(L, n_cars, vmax, road):\n",
    "    '''\n",
    "    Provide initial velocities to the cars\n",
    "    '''\n",
    "    random_vs = rng.integers(0, high = vmax, size = L, endpoint = True)\n",
    "    road[1, :] = road[0, :]*random_vs\n",
    "\n",
    "    return road\n"
   ]
  },
  {
   "cell_type": "code",
   "execution_count": 5,
   "metadata": {},
   "outputs": [],
   "source": [
    "road_with_cars = add_cars(L = 15, n_cars = 5)\n",
    "initial_road = initial_velocities(L = 15, n_cars = 5, vmax = 5, road=road_with_cars)"
   ]
  },
  {
   "cell_type": "code",
   "execution_count": 6,
   "metadata": {},
   "outputs": [],
   "source": [
    "def plottable_road(road):\n",
    "    road_plot = road.copy().astype(float)\n",
    "    road_plot[1, (road_plot[0, :] == 0).astype(bool)] = np.nan\n",
    "    return np.expand_dims(road_plot[1, :], axis=0), road_plot[1,:]"
   ]
  },
  {
   "cell_type": "code",
   "execution_count": 7,
   "metadata": {},
   "outputs": [],
   "source": [
    "def plot_road(roads_to_plot, vmax):\n",
    "    cmap = plt.get_cmap(\"jet\", vmax)\n",
    "    img = plt.imshow(roads_to_plot, cmap=cmap)\n",
    "    plt.colorbar()\n",
    "\n",
    "    return img\n"
   ]
  },
  {
   "cell_type": "code",
   "execution_count": 19,
   "metadata": {},
   "outputs": [],
   "source": [
    "def animate_road(road, vmax):\n",
    "    road1 = road.copy().astype(float)\n",
    "    road1[1, (road1[0, :] == 0).astype(bool)] = np.nan\n",
    "\n",
    "    cmap = plt.get_cmap(\"jet\", vmax)\n",
    "    img = plt.imshow(np.expand_dims(road1[1,:], axis=0), cmap = cmap, aspect=\"auto\", animated=True)\n",
    "    plt.colorbar(orientation=\"horizontal\")\n",
    "\n",
    "    return img\n"
   ]
  },
  {
   "cell_type": "code",
   "execution_count": null,
   "metadata": {},
   "outputs": [],
   "source": []
  },
  {
   "cell_type": "code",
   "execution_count": 9,
   "metadata": {},
   "outputs": [],
   "source": [
    "def get_site_value(road, site_num):\n",
    "    '''Return the velocity of the vehicle on site i'''\n",
    "    L = road.shape[1]\n",
    "    return road[:, site_num%L]"
   ]
  },
  {
   "cell_type": "code",
   "execution_count": 10,
   "metadata": {},
   "outputs": [],
   "source": [
    "def set_site_value(road, site_num, vel, empty):\n",
    "    ''' Set the velocity (if any) of the vehicle on a site'''\n",
    "    L = road.shape[1]\n",
    "    if empty == False:   \n",
    "        road[0, site_num%L] = 1\n",
    "        road[1, site_num%L] = vel\n",
    "    elif empty == True:\n",
    "        road[:, site_num%L] = 0\n",
    "\n",
    "    return road"
   ]
  },
  {
   "cell_type": "code",
   "execution_count": 11,
   "metadata": {},
   "outputs": [],
   "source": [
    "def next_car_dist(road, site_num, L):\n",
    "    '''\n",
    "    Count the number of empty sites before \n",
    "    the next car (non-empty site)'''\n",
    "    # site_status = np.where(road[0, :])[]\n",
    "    j = site_num+1\n",
    "    while road[0, j%L] == 0:\n",
    "        j += 1\n",
    "    \n",
    "    # return index of next car and distance between current car and next\n",
    "    return j%L, (j - site_num )%L\n"
   ]
  },
  {
   "cell_type": "code",
   "execution_count": 12,
   "metadata": {},
   "outputs": [
    {
     "data": {
      "text/plain": [
       "array([[1, 0, 1, 0, 1, 0, 0, 1, 0, 0, 0, 0, 1, 0, 0],\n",
       "       [0, 0, 4, 0, 5, 0, 0, 1, 0, 0, 0, 0, 5, 0, 0]])"
      ]
     },
     "execution_count": 12,
     "metadata": {},
     "output_type": "execute_result"
    }
   ],
   "source": [
    "initial_road"
   ]
  },
  {
   "cell_type": "code",
   "execution_count": 13,
   "metadata": {},
   "outputs": [
    {
     "data": {
      "text/plain": [
       "(7, 3)"
      ]
     },
     "execution_count": 13,
     "metadata": {},
     "output_type": "execute_result"
    }
   ],
   "source": [
    "next_car_dist(initial_road, 4, L=15)"
   ]
  },
  {
   "cell_type": "code",
   "execution_count": 14,
   "metadata": {},
   "outputs": [],
   "source": [
    "def motion(road):\n",
    "    L = road.shape[1]\n",
    "    next_road = create_road(L)\n",
    "    for site in range(L):\n",
    "        site_stat = get_site_value(road, site)\n",
    "        is_occupied = site_stat[0] == 1\n",
    "        v = site_stat[1]\n",
    "        if is_occupied:\n",
    "            next_road = set_site_value(next_road, (site+v)%L, v, empty=False)\n",
    "    \n",
    "    return next_road"
   ]
  },
  {
   "cell_type": "code",
   "execution_count": 15,
   "metadata": {},
   "outputs": [],
   "source": [
    "def step(road, vmax, prob):\n",
    "    '''\n",
    "    Creates the next iteration from a given road\n",
    "    '''\n",
    "\n",
    "    # create an empty road to store the new results in\n",
    "    L = road.shape[1]\n",
    "    road_info = road.copy()\n",
    "    random_vec = rng.random(L)\n",
    "    # loop over each site\n",
    "    for site in range(L):\n",
    "\n",
    "        # determine if the site is empty or occupied\n",
    "        site_stat = get_site_value(road, site)\n",
    "        is_occupied = site_stat[0] == 1\n",
    "        v = site_stat[1]\n",
    "\n",
    "        # apply the rules\n",
    "        if is_occupied:\n",
    "            # determine distance of car ahead\n",
    "            dist_ahead = next_car_dist(road, site, L)[1]\n",
    "\n",
    "        ## Acceleration\n",
    "        # if the velocity v of a vehicle is lower than vmax and \n",
    "        # if the car distance to car ahead is larger than v+1, \n",
    "        # increase the speed by one (v -> v+1)\n",
    "            if v < vmax and dist_ahead > v+1:\n",
    "                road_info = set_site_value(road_info, site, v+1, empty=False)\n",
    "\n",
    "\n",
    "            ## Deceleration\n",
    "            # if a vehicle at site i sees the next vehicle at site i+j \n",
    "            # with j <= v, it reduces its speed to j-1 (v -> j-1)\n",
    "            elif dist_ahead <= v:\n",
    "                new_vel= dist_ahead-1\n",
    "                road_info = set_site_value(road_info, site, new_vel, empty=False )\n",
    "\n",
    "\n",
    "            ## Randomisation\n",
    "            # with probability p, the vehicle's velocity is decreased \n",
    "            # by one to a minimum of zero ( v -> max(v-1, 0))\n",
    "            elif random_vec[site] < prob:\n",
    "                road_info = set_site_value(road_info, site, max([v-1, 0]), empty=False)\n",
    "\n",
    "        ## Motion\n",
    "        # each vehicle is advanced v sites\n",
    "    next_road = motion(road_info)\n",
    "\n",
    "    return next_road"
   ]
  },
  {
   "cell_type": "code",
   "execution_count": 16,
   "metadata": {},
   "outputs": [],
   "source": [
    "new_road = step(initial_road, vmax = 5, prob = 0.01)"
   ]
  },
  {
   "cell_type": "code",
   "execution_count": null,
   "metadata": {},
   "outputs": [],
   "source": []
  },
  {
   "cell_type": "code",
   "execution_count": 20,
   "metadata": {},
   "outputs": [
    {
     "data": {
      "text/plain": [
       "<matplotlib.image.AxesImage at 0x7fbcca959d90>"
      ]
     },
     "execution_count": 20,
     "metadata": {},
     "output_type": "execute_result"
    },
    {
     "data": {
      "image/png": "[encoded data removed]",
      "text/plain": [
       "<Figure size 720x360 with 3 Axes>"
      ]
     },
     "metadata": {
      "needs_background": "light"
     },
     "output_type": "display_data"
    }
   ],
   "source": [
    "## Multiple iterations\n",
    "nt = 50\n",
    "L = 70\n",
    "n_cars = 20\n",
    "vmax = 5\n",
    "prob = 0.4\n",
    "\n",
    "roads_to_plot = np.zeros((nt, L))\n",
    "initial_road = initial_velocities(L, n_cars, vmax, road=add_cars(L, n_cars))\n",
    "next_road = initial_road\n",
    "\n",
    "# mpl.rcParams['image.aspect']=\"auto\"\n",
    "roads_to_plot[0, :] = plottable_road(next_road)[1]\n",
    "\n",
    "fig, ax = plt.subplots(figsize = (10,5))\n",
    "img = animate_road(next_road, vmax)\n",
    "\n",
    "for i in range(nt-1):\n",
    "    next_road = step(next_road, vmax, prob)\n",
    "    roads_to_plot[i+1, :] = plottable_road(next_road)[1]\n",
    "    # img.set_array(plottable_road(next_road)[0])\n",
    "    # plt.pause(0.1)\n",
    "    # clear_output(wait=True)\n",
    "    # display(fig)\n",
    "\n",
    "\n",
    "plot_road(roads_to_plot, vmax)"
   ]
  },
  {
   "cell_type": "code",
   "execution_count": 25,
   "metadata": {},
   "outputs": [
    {
     "name": "stderr",
     "output_type": "stream",
     "text": [
      "<ipython-input-25-dd45e006bc81>:6: UserWarning: frames=None which we can infer the length of, did not pass an explicit *save_count* and passed cache_frame_data=True.  To avoid a possibly unbounded cache, frame data caching has been disabled. To suppress this warning either pass `cache_frame_data=False` or `save_count=MAX_FRAMES`.\n",
      "  ani = animation.FuncAnimation(fig, animate_func, interval = 100)\n"
     ]
    }
   ],
   "source": [
    "def animate_func(i):\n",
    "    img.set_array(roads_to_plot[i])\n",
    "\n",
    "    return [img]\n",
    "\n",
    "ani = animation.FuncAnimation(fig, animate_func, interval = 100)\n",
    "plt.show()\n",
    "# ani.save(\"test.mp4\", extra_args=['-vcodec', 'libx264'])"
   ]
  },
  {
   "cell_type": "code",
   "execution_count": null,
   "metadata": {},
   "outputs": [],
   "source": []
  }
 ],
 "metadata": {
  "kernelspec": {
   "display_name": "base",
   "language": "python",
   "name": "python3"
  },
  "language_info": {
   "codemirror_mode": {
    "name": "ipython",
    "version": 3
   },
   "file_extension": ".py",
   "mimetype": "text/x-python",
   "name": "python",
   "nbconvert_exporter": "python",
   "pygments_lexer": "ipython3",
   "version": "3.8.5"
  },
  "orig_nbformat": 4
 },
 "nbformat": 4,
 "nbformat_minor": 2
}
