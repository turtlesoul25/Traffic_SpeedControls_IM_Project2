{
 "cells": [
  {
   "cell_type": "markdown",
   "id": "41830cff-074b-4cf5-ae2a-705629fcd0f4",
   "metadata": {},
   "source": [
    "# Documentation for Using the Traffic Model\n",
    "\n",
    "This guide provides instructions on using the traffic model within a Jupyter notebook. The model is designed to simulate traffic dynamics based on predefined rules. Below are the steps to import and utilize the toy model as an example, which follows the basic rules outlined in the project brief.\n",
    "\n",
    "## Importing the Model\n",
    "\n",
    "To use the traffic model, start by importing the required class. In this example, we'll use the toy model provided. Ensure the model file (model_toy.py) is in the correct directory (model_class) or update the import statement with the correct path."
   ]
  },
  {
   "cell_type": "code",
   "execution_count": 37,
   "id": "6a1e6c30-69a5-431d-bc98-2ac7f6737d41",
   "metadata": {},
   "outputs": [],
   "source": [
    "from model_class.model_toy_MN import TrafficSimulation\n",
    "import pandas as pd\n",
    "import matplotlib.pyplot as plt"
   ]
  },
  {
   "cell_type": "markdown",
   "id": "d2b06ffb-7cc6-417b-91a0-4efd82494244",
   "metadata": {},
   "source": [
    "## Initializing the Model\n",
    "\n",
    "After importing the class, initialize an instance of the TrafficSimulation class with the desired parameters, such as road_length, density, and car_slow_down_prob.\n",
    "\n",
    "Execute the simulation using a loop to update the model over a specified number of time steps. In this example, we run the simulation for 10 time steps:"
   ]
  },
  {
   "cell_type": "code",
   "execution_count": 33,
   "id": "491e490e-8df2-435a-bae9-c254f085e50f",
   "metadata": {},
   "outputs": [
    {
     "name": "stdout",
     "output_type": "stream",
     "text": [
      "- - - - - - - - 0 - - - 0 - - 4 - - - - - - - - 1 1 - - - 4\n"
     ]
    },
    {
     "ename": "AttributeError",
     "evalue": "'TrafficSimulation' object has no attribute 'print_heat'",
     "output_type": "error",
     "traceback": [
      "\u001b[1;31m---------------------------------------------------------------------------\u001b[0m",
      "\u001b[1;31mAttributeError\u001b[0m                            Traceback (most recent call last)",
      "\u001b[1;32m<ipython-input-33-266f46874718>\u001b[0m in \u001b[0;36m<module>\u001b[1;34m\u001b[0m\n\u001b[0;32m     12\u001b[0m     \u001b[0msim1\u001b[0m\u001b[1;33m.\u001b[0m\u001b[0mprint_step\u001b[0m\u001b[1;33m(\u001b[0m\u001b[1;33m)\u001b[0m   \u001b[1;31m# Here we print the state of the model, we can remove.\u001b[0m\u001b[1;33m\u001b[0m\u001b[1;33m\u001b[0m\u001b[0m\n\u001b[0;32m     13\u001b[0m     \u001b[0msim1\u001b[0m\u001b[1;33m.\u001b[0m\u001b[0mupdate\u001b[0m\u001b[1;33m(\u001b[0m\u001b[1;33m)\u001b[0m        \u001b[1;31m# Steps the simulation\u001b[0m\u001b[1;33m\u001b[0m\u001b[1;33m\u001b[0m\u001b[0m\n\u001b[1;32m---> 14\u001b[1;33m     \u001b[0msim1\u001b[0m\u001b[1;33m.\u001b[0m\u001b[0mprint_heat\u001b[0m\u001b[1;33m(\u001b[0m\u001b[1;33m)\u001b[0m\u001b[1;33m\u001b[0m\u001b[1;33m\u001b[0m\u001b[0m\n\u001b[0m",
      "\u001b[1;31mAttributeError\u001b[0m: 'TrafficSimulation' object has no attribute 'print_heat'"
     ]
    }
   ],
   "source": [
    "# Your simulation parameters\n",
    "road_length = 30\n",
    "density = 0.22\n",
    "car_slow_down_prob = 0.1\n",
    "number_of_simulation_steps = 9\n",
    "\n",
    "# Create an instance of TrafficSimulation\n",
    "sim1 = TrafficSimulation(road_length, density, car_slow_down_prob)\n",
    "\n",
    "# Run the simulation\n",
    "for _ in range(number_of_simulation_steps):\n",
    "    sim1.print_step()   # Here we print the state of the model, we can remove. \n",
    "    sim1.update()        # Steps the simulation \n",
    "    sim1.print_heat()"
   ]
  },
  {
   "cell_type": "markdown",
   "id": "2e97557d-7d15-478f-8ffe-4c11b6814025",
   "metadata": {},
   "source": [
    "# Accessing Simulation Results\n",
    "\n",
    "To retrieve information from the simulation, you can access data such as the number of laps completed and a histogram of the number of cars at  different speeds. Additionally, you can print this information using the following code:"
   ]
  },
  {
   "cell_type": "code",
   "execution_count": 12,
   "id": "67074028-ad39-4deb-af3f-b6c5201e79b8",
   "metadata": {},
   "outputs": [
    {
     "name": "stdout",
     "output_type": "stream",
     "text": [
      "Number of laps seen: 3\n",
      "Lap completion rate: 0.3333333333333333\n",
      "Dictionary of the number of cars at a speed:\n",
      "{3: 3, 4: 1, 5: 2}\n"
     ]
    }
   ],
   "source": [
    "# Print simulation results\n",
    "print(f'Number of laps seen: {sim1.data_laps}')\n",
    "print(f'Lap completion rate: {sim1.data_laps / number_of_simulation_steps}')\n",
    "print(f'Dictionary of the number of cars at a speed:\\n{sim1.data_speeds_histogram}')"
   ]
  },
  {
   "cell_type": "markdown",
   "id": "6cd9bad0-01ba-4f96-83ea-0ec2fd9448fc",
   "metadata": {},
   "source": [
    "Note, that we can run data_speeds_histogram at each step, as the data changes per each time step, as an example:"
   ]
  },
  {
   "cell_type": "code",
   "execution_count": 14,
   "id": "a55556b3-dadf-4a62-a7b6-216708d5f4b3",
   "metadata": {},
   "outputs": [
    {
     "name": "stdout",
     "output_type": "stream",
     "text": [
      "- - - - - - 5 - - - - - 5 - - - - 3 - - 2 - - - 3 - - - - 4\n",
      "Step 1 - Dictionary of the number of cars at a speed:\n",
      "{5: 2, 4: 2, 2: 1, 3: 1}\n",
      "- - - - 5 - - - - - - 5 - - - - 4 - - 2 - - - 3 - - - - 4 -\n",
      "Step 2 - Dictionary of the number of cars at a speed:\n",
      "{5: 1, 4: 3, 2: 1, 3: 1}\n",
      "- - 4 - - - - - - 5 - - - - - 4 - - 2 - - - 3 - - - - 4 - -\n",
      "Step 3 - Dictionary of the number of cars at a speed:\n",
      "{5: 2, 2: 1, 3: 2, 4: 1}\n",
      "- 4 - - - - - 5 - - - - - - 5 - - 2 - - - 3 - - - 3 - - - -\n",
      "Step 4 - Dictionary of the number of cars at a speed:\n",
      "{5: 2, 1: 1, 3: 2, 4: 1}\n",
      "- - - - - - 5 - - - - - 5 - - 1 - - - - 3 - - - 3 - - - - 4\n",
      "Step 5 - Dictionary of the number of cars at a speed:\n",
      "{5: 2, 2: 2, 3: 2}\n",
      "- - - - 5 - - - - - - 5 - - 2 - - 2 - - - - - 3 - - - 3 - -\n",
      "Step 6 - Dictionary of the number of cars at a speed:\n",
      "{5: 1, 1: 1, 2: 2, 3: 1, 4: 1}\n",
      "- 4 - - - - - - - 5 - - 1 - - - 2 - - - 3 - - - - 2 - - - -\n",
      "Step 7 - Dictionary of the number of cars at a speed:\n",
      "{5: 1, 2: 2, 3: 3}\n",
      "- - - - - - 5 - - - - 2 - - 2 - - - - 3 - - - 3 - - - - 3 -\n",
      "Step 8 - Dictionary of the number of cars at a speed:\n",
      "{4: 3, 1: 1, 3: 2}\n",
      "- - 4 - - - - - - - 4 - 1 - - - - 3 - - - - 3 - - - - 4 - -\n",
      "Step 9 - Dictionary of the number of cars at a speed:\n",
      "{5: 1, 1: 2, 4: 3}\n"
     ]
    }
   ],
   "source": [
    "# Run the simulation and print speed histograms at each step\n",
    "\n",
    "dicts = []\n",
    "\n",
    "for step in range(number_of_simulation_steps):\n",
    "    sim1.print_step()  # Print the current state of the simulation\n",
    "    sim1.update()      # Update the simulation for the next time step\n",
    "    dicts.append(sim1.data_speeds_histogram)\n",
    "    \n",
    "    # Print speed histogram at each step\n",
    "    print(f'Step {step + 1} - Dictionary of the number of cars at a speed:\\n{sim1.data_speeds_histogram}')"
   ]
  },
  {
   "cell_type": "code",
   "execution_count": 15,
   "metadata": {},
   "outputs": [
    {
     "data": {
      "text/html": [
       "<div>\n",
       "<style scoped>\n",
       "    .dataframe tbody tr th:only-of-type {\n",
       "        vertical-align: middle;\n",
       "    }\n",
       "\n",
       "    .dataframe tbody tr th {\n",
       "        vertical-align: top;\n",
       "    }\n",
       "\n",
       "    .dataframe thead th {\n",
       "        text-align: right;\n",
       "    }\n",
       "</style>\n",
       "<table border=\"1\" class=\"dataframe\">\n",
       "  <thead>\n",
       "    <tr style=\"text-align: right;\">\n",
       "      <th>Iteration</th>\n",
       "      <th>0</th>\n",
       "      <th>1</th>\n",
       "      <th>2</th>\n",
       "      <th>3</th>\n",
       "      <th>4</th>\n",
       "      <th>5</th>\n",
       "      <th>6</th>\n",
       "      <th>7</th>\n",
       "      <th>8</th>\n",
       "    </tr>\n",
       "    <tr>\n",
       "      <th>Speed</th>\n",
       "      <th></th>\n",
       "      <th></th>\n",
       "      <th></th>\n",
       "      <th></th>\n",
       "      <th></th>\n",
       "      <th></th>\n",
       "      <th></th>\n",
       "      <th></th>\n",
       "      <th></th>\n",
       "    </tr>\n",
       "  </thead>\n",
       "  <tbody>\n",
       "    <tr>\n",
       "      <th>1</th>\n",
       "      <td>0</td>\n",
       "      <td>0</td>\n",
       "      <td>0</td>\n",
       "      <td>1</td>\n",
       "      <td>0</td>\n",
       "      <td>1</td>\n",
       "      <td>0</td>\n",
       "      <td>1</td>\n",
       "      <td>2</td>\n",
       "    </tr>\n",
       "    <tr>\n",
       "      <th>2</th>\n",
       "      <td>1</td>\n",
       "      <td>1</td>\n",
       "      <td>1</td>\n",
       "      <td>0</td>\n",
       "      <td>2</td>\n",
       "      <td>2</td>\n",
       "      <td>2</td>\n",
       "      <td>0</td>\n",
       "      <td>0</td>\n",
       "    </tr>\n",
       "    <tr>\n",
       "      <th>3</th>\n",
       "      <td>1</td>\n",
       "      <td>1</td>\n",
       "      <td>2</td>\n",
       "      <td>2</td>\n",
       "      <td>2</td>\n",
       "      <td>1</td>\n",
       "      <td>3</td>\n",
       "      <td>2</td>\n",
       "      <td>0</td>\n",
       "    </tr>\n",
       "    <tr>\n",
       "      <th>4</th>\n",
       "      <td>2</td>\n",
       "      <td>3</td>\n",
       "      <td>1</td>\n",
       "      <td>1</td>\n",
       "      <td>0</td>\n",
       "      <td>1</td>\n",
       "      <td>0</td>\n",
       "      <td>3</td>\n",
       "      <td>3</td>\n",
       "    </tr>\n",
       "    <tr>\n",
       "      <th>5</th>\n",
       "      <td>2</td>\n",
       "      <td>1</td>\n",
       "      <td>2</td>\n",
       "      <td>2</td>\n",
       "      <td>2</td>\n",
       "      <td>1</td>\n",
       "      <td>1</td>\n",
       "      <td>0</td>\n",
       "      <td>1</td>\n",
       "    </tr>\n",
       "  </tbody>\n",
       "</table>\n",
       "</div>"
      ],
      "text/plain": [
       "Iteration  0  1  2  3  4  5  6  7  8\n",
       "Speed                               \n",
       "1          0  0  0  1  0  1  0  1  2\n",
       "2          1  1  1  0  2  2  2  0  0\n",
       "3          1  1  2  2  2  1  3  2  0\n",
       "4          2  3  1  1  0  1  0  3  3\n",
       "5          2  1  2  2  2  1  1  0  1"
      ]
     },
     "metadata": {},
     "output_type": "display_data"
    },
    {
     "data": {
      "text/plain": [
       "array([<Axes: title={'center': '0'}, xlabel='Speed'>,\n",
       "       <Axes: title={'center': '1'}, xlabel='Speed'>,\n",
       "       <Axes: title={'center': '2'}, xlabel='Speed'>,\n",
       "       <Axes: title={'center': '3'}, xlabel='Speed'>,\n",
       "       <Axes: title={'center': '4'}, xlabel='Speed'>,\n",
       "       <Axes: title={'center': '5'}, xlabel='Speed'>,\n",
       "       <Axes: title={'center': '6'}, xlabel='Speed'>,\n",
       "       <Axes: title={'center': '7'}, xlabel='Speed'>,\n",
       "       <Axes: title={'center': '8'}, xlabel='Speed'>], dtype=object)"
      ]
     },
     "execution_count": 15,
     "metadata": {},
     "output_type": "execute_result"
    },
    {
     "data": {
      "image/png": "[encoded data removed]",
      "text/plain": [
       "<Figure size 216x1944 with 9 Axes>"
      ]
     },
     "metadata": {
      "needs_background": "light"
     },
     "output_type": "display_data"
    }
   ],
   "source": [
    "dicts_df = pd.DataFrame.from_dict(dicts)\n",
    "dicts_df.index.names = ['Iteration']\n",
    "dicts_df = dicts_df.reindex(sorted(dicts_df.columns), axis=1)\n",
    "dicts_df = dicts_df.fillna(0)\n",
    "dicts_df = dicts_df.transpose()\n",
    "dicts_df.index.names = [\"Speed\"]\n",
    "dicts_df = dicts_df.astype(int)\n",
    "dicts_df.columns = dicts_df.columns.astype(str)\n",
    "\n",
    "\n",
    "# g = sns.FacetGrid(tips, col=\"time\",  row=\"sex\")\n",
    "# g.map(sns.scatterplot, \"total_bill\", \"tip\")\n",
    "display(dicts_df)\n",
    "# fig, ax = plt.subplots(len(dicts_df.columns),1, figsize = (3, 27))\n",
    "dicts_df.plot.bar(subplots=True, figsize = (3, 27))        "
   ]
  },
  {
   "cell_type": "markdown",
   "id": "052a1e94-8ad2-4fc8-aa12-d3168e0080e0",
   "metadata": {},
   "source": [
    "This modification to the code prints the speed histogram at each time step, allowing you to observe the evolving distribution of car speeds throughout the simulation. Adjust the number_of_simulation_steps variable based on the actual number of steps used in your simulation. Feel free to further customize the output or include additional information as needed for your analysis."
   ]
  },
  {
   "cell_type": "markdown",
   "id": "398f35e8-cbc8-4303-b4c3-f299a3d6b80a",
   "metadata": {},
   "source": [
    "I have built some test functions for the rule sets which can be called as: Note they will over ride some parameters are required."
   ]
  },
  {
   "cell_type": "code",
   "execution_count": 38,
   "id": "03aff7ca-fe9a-4b81-87dd-0f19209a573c",
   "metadata": {},
   "outputs": [
    {
     "name": "stdout",
     "output_type": "stream",
     "text": [
      "0 - - - - - - - - - - - - - - - - - - - - - - - - - - - - - - - - - - - - - - - - - - - - - - - - -\n"
     ]
    },
    {
     "ename": "AttributeError",
     "evalue": "'TrafficSimulation' object has no attribute 'print_heat'",
     "output_type": "error",
     "traceback": [
      "\u001b[1;31m---------------------------------------------------------------------------\u001b[0m",
      "\u001b[1;31mAttributeError\u001b[0m                            Traceback (most recent call last)",
      "\u001b[1;32m<ipython-input-38-58759a4ddce4>\u001b[0m in \u001b[0;36m<module>\u001b[1;34m\u001b[0m\n\u001b[0;32m      9\u001b[0m     \u001b[0msim1\u001b[0m\u001b[1;33m.\u001b[0m\u001b[0mprint_step\u001b[0m\u001b[1;33m(\u001b[0m\u001b[1;33m)\u001b[0m    \u001b[1;31m# Here we print the state of the model, we can remove.\u001b[0m\u001b[1;33m\u001b[0m\u001b[1;33m\u001b[0m\u001b[0m\n\u001b[0;32m     10\u001b[0m     \u001b[0msim1\u001b[0m\u001b[1;33m.\u001b[0m\u001b[0mupdate\u001b[0m\u001b[1;33m(\u001b[0m\u001b[1;33m)\u001b[0m        \u001b[1;31m# Steps the simulation\u001b[0m\u001b[1;33m\u001b[0m\u001b[1;33m\u001b[0m\u001b[0m\n\u001b[1;32m---> 11\u001b[1;33m     \u001b[0msim1\u001b[0m\u001b[1;33m.\u001b[0m\u001b[0mprint_heat\u001b[0m\u001b[1;33m(\u001b[0m\u001b[1;33m)\u001b[0m\u001b[1;33m\u001b[0m\u001b[1;33m\u001b[0m\u001b[0m\n\u001b[0m",
      "\u001b[1;31mAttributeError\u001b[0m: 'TrafficSimulation' object has no attribute 'print_heat'"
     ]
    }
   ],
   "source": [
    "road_length = 30\n",
    "density = 0.22\n",
    "car_slow_down_prob = 0.1\n",
    "number_of_simulation_steps=10\n",
    "sim1.test_simple_acceleration(0)    # set the model for the test, with the variable being pass is the car_slow_down_prob\n",
    "road_outputs = []\n",
    "# Run the simulation\n",
    "for _ in range(number_of_simulation_steps):\n",
    "    sim1.print_step()    # Here we print the state of the model, we can remove. \n",
    "    sim1.update()        # Steps the simulation \n",
    "    sim1.print_heat()"
   ]
  },
  {
   "cell_type": "code",
   "execution_count": 8,
   "id": "8a92593a-16e5-45bb-b0f5-3172ab0f0cc5",
   "metadata": {},
   "outputs": [
    {
     "name": "stdout",
     "output_type": "stream",
     "text": [
      "0 - - - - - - - - - - - - - - - - - - - - - - - - - - - - - - - - - - - - - - - - - - - - - - - - -\n",
      "0 - - - - - - - - - - - - - - - - - - - - - - - - - - - - - - - - - - - - - - - - - - - - - - - - -\n",
      "- 1 - - - - - - - - - - - - - - - - - - - - - - - - - - - - - - - - - - - - - - - - - - - - - - - -\n",
      "- - 1 - - - - - - - - - - - - - - - - - - - - - - - - - - - - - - - - - - - - - - - - - - - - - - -\n",
      "- - - 1 - - - - - - - - - - - - - - - - - - - - - - - - - - - - - - - - - - - - - - - - - - - - - -\n",
      "- - - - 1 - - - - - - - - - - - - - - - - - - - - - - - - - - - - - - - - - - - - - - - - - - - - -\n",
      "- - - - - 1 - - - - - - - - - - - - - - - - - - - - - - - - - - - - - - - - - - - - - - - - - - - -\n",
      "- - - - - - - 2 - - - - - - - - - - - - - - - - - - - - - - - - - - - - - - - - - - - - - - - - - -\n",
      "- - - - - - - - - 2 - - - - - - - - - - - - - - - - - - - - - - - - - - - - - - - - - - - - - - - -\n",
      "- - - - - - - - - - - - 3 - - - - - - - - - - - - - - - - - - - - - - - - - - - - - - - - - - - - -\n"
     ]
    }
   ],
   "source": [
    "sim1.test_simple_acceleration(0.5)    # set the model for the test, with the variable being pass is the starting speed.\n",
    "# Run the simulation\n",
    "for _ in range(number_of_simulation_steps):\n",
    "    sim1.print_step()    # Here we print the state of the model, we can remove. \n",
    "    sim1.update()        # Steps the simulation "
   ]
  },
  {
   "cell_type": "code",
   "execution_count": 19,
   "id": "559ca223-f330-4656-ae83-4ae6623a34fd",
   "metadata": {},
   "outputs": [
    {
     "name": "stdout",
     "output_type": "stream",
     "text": [
      "0 - - - 0 - - - - -\n",
      "- 1 - - 0 - - - - -\n",
      "- - - 2 0 - - - - -\n",
      "- - - 0 0 - - - - -\n",
      "- - - 0 0 - - - - -\n",
      "- - - 0 0 - - - - -\n",
      "- - - 0 0 - - - - -\n",
      "- - - 0 0 - - - - -\n",
      "- - - 0 0 - - - - -\n",
      "- - - 0 0 - - - - -\n"
     ]
    }
   ],
   "source": [
    "sim1.test_simple_deceleration(0)  # Variable is the starting speed\n",
    "for _ in range(number_of_simulation_steps):\n",
    "    sim1.print_step()    # Here we print the state of the model, we can remove. \n",
    "    sim1.update()        # Steps the simulation "
   ]
  },
  {
   "cell_type": "code",
   "execution_count": 20,
   "id": "070c4c58-59a9-423c-bc1f-46971ade583c",
   "metadata": {},
   "outputs": [
    {
     "name": "stdout",
     "output_type": "stream",
     "text": [
      "3 - - - 0 - - - - -\n",
      "- - - 3 0 - - - - -\n",
      "- - - 0 0 - - - - -\n",
      "- - - 0 0 - - - - -\n",
      "- - - 0 0 - - - - -\n",
      "- - - 0 0 - - - - -\n",
      "- - - 0 0 - - - - -\n",
      "- - - 0 0 - - - - -\n",
      "- - - 0 0 - - - - -\n",
      "- - - 0 0 - - - - -\n"
     ]
    }
   ],
   "source": [
    "sim1.test_simple_deceleration(3)  # Variable is the starting speed\n",
    "for _ in range(number_of_simulation_steps):\n",
    "    sim1.print_step()    # Here we print the state of the model, we can remove. \n",
    "    sim1.update()        # Steps the simulation "
   ]
  },
  {
   "cell_type": "code",
   "execution_count": 22,
   "id": "56663eb5-4a2a-4ad2-b84f-258d7e453ac6",
   "metadata": {},
   "outputs": [
    {
     "name": "stdout",
     "output_type": "stream",
     "text": [
      "0 - - - - - - - 0 -\n",
      "- 1 - - - - - - 0 -\n",
      "- - - 2 - - - - 0 -\n",
      "- - - - - - 3 - 0 -\n",
      "- - - - - - - 1 0 -\n",
      "- - - - - - - 0 0 -\n",
      "- - - - - - - 0 0 -\n",
      "- - - - - - - 0 0 -\n",
      "- - - - - - - 0 0 -\n",
      "- - - - - - - 0 0 -\n"
     ]
    }
   ],
   "source": [
    "# we can also change the  stationary car position with the second argument\n",
    "sim1.test_simple_deceleration(0, 8)  # Variable is the starting speed, stationary car position\n",
    "for _ in range(number_of_simulation_steps):\n",
    "    sim1.print_step()    # Here we print the state of the model, we can remove. \n",
    "    sim1.update()        # Steps the simulation "
   ]
  },
  {
   "cell_type": "markdown",
   "id": "9785cee3-1196-4b57-ad2b-deff5c762041",
   "metadata": {},
   "source": [
    "#  Variable speed testing \n",
    "For this we need to import the updated model as before we import it:"
   ]
  },
  {
   "cell_type": "code",
   "execution_count": 91,
   "id": "92ad2a34-2495-4fa2-bce0-ae18b228839a",
   "metadata": {},
   "outputs": [],
   "source": [
    "from model_class.model_variable_speed_limits import TrafficSimulation as VariableSpeedTrafficSimulation"
   ]
  },
  {
   "cell_type": "code",
   "execution_count": 103,
   "id": "ef5f24f4-2bd5-4346-95f0-5fbf271f0146",
   "metadata": {},
   "outputs": [
    {
     "name": "stdout",
     "output_type": "stream",
     "text": [
      "3 3 3 3 3 3 3 3 3 3 3 3 3 3 3 3 3 3 3 3 8 8 8 8 8 8 8 8 8 8 8 8 8 8 8 8 8 8 8 8\n",
      "- - - - - - - - - - - - - 2 - - - 3 - 0 - - - - - 0 - - 3 2 1 - - - - 1 - - - -\n",
      "<class 'NoneType'>\n"
     ]
    }
   ],
   "source": [
    "road_speed_limit_list = ([3]*20 ) + ([8]*20) # You can create a list like this [speed_limit of road] * (how many blocks)\n",
    "density = 1/5\n",
    "car_slow_down_prob = .25\n",
    "sim1 = VariableSpeedTrafficSimulation(road_speed_limit_list, density, car_slow_down_prob)\n",
    "# sim1.test_variable_speed_limits(6,4)\n",
    "sim1.print_speed_limits()\n",
    "for _ in range(1):\n",
    "    sim1.print_step()\n",
    "    sim1.update()"
   ]
  },
  {
   "cell_type": "code",
   "execution_count": null,
   "id": "a3e17b32-ef65-469a-8a9a-4db07e7d6079",
   "metadata": {},
   "outputs": [],
   "source": []
  }
 ],
 "metadata": {
  "kernelspec": {
   "display_name": "Python 3 (ipykernel)",
   "language": "python",
   "name": "python3"
  },
  "language_info": {
   "codemirror_mode": {
    "name": "ipython",
    "version": 3
   },
   "file_extension": ".py",
   "mimetype": "text/x-python",
   "name": "python",
   "nbconvert_exporter": "python",
   "pygments_lexer": "ipython3",
   "version": "3.8.5"
  }
 },
 "nbformat": 4,
 "nbformat_minor": 5
}
